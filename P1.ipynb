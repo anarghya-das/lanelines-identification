{
 "cells": [
  {
   "cell_type": "markdown",
   "metadata": {},
   "source": [
    "# Self-Driving Car Engineer Nanodegree\n",
    "\n",
    "\n",
    "## Project: **Finding Lane Lines on the Road** \n",
    "***\n",
    "In this project, you will use the tools you learned about in the lesson to identify lane lines on the road.  You can develop your pipeline on a series of individual images, and later apply the result to a video stream (really just a series of images). Check out the video clip \"raw-lines-example.mp4\" (also contained in this repository) to see what the output should look like after using the helper functions below. \n",
    "\n",
    "Once you have a result that looks roughly like \"raw-lines-example.mp4\", you'll need to get creative and try to average and/or extrapolate the line segments you've detected to map out the full extent of the lane lines.  You can see an example of the result you're going for in the video \"P1_example.mp4\".  Ultimately, you would like to draw just one line for the left side of the lane, and one for the right.\n",
    "\n",
    "In addition to implementing code, there is a brief writeup to complete. The writeup should be completed in a separate file, which can be either a markdown file or a pdf document. There is a [write up template](https://github.com/udacity/CarND-LaneLines-P1/blob/master/writeup_template.md) that can be used to guide the writing process. Completing both the code in the Ipython notebook and the writeup template will cover all of the [rubric points](https://review.udacity.com/#!/rubrics/322/view) for this project.\n",
    "\n",
    "---\n",
    "Let's have a look at our first image called 'test_images/solidWhiteRight.jpg'.  Run the 2 cells below (hit Shift-Enter or the \"play\" button above) to display the image.\n",
    "\n",
    "**Note: If, at any point, you encounter frozen display windows or other confounding issues, you can always start again with a clean slate by going to the \"Kernel\" menu above and selecting \"Restart & Clear Output\".**\n",
    "\n",
    "---"
   ]
  },
  {
   "cell_type": "markdown",
   "metadata": {},
   "source": [
    "**The tools you have are color selection, region of interest selection, grayscaling, Gaussian smoothing, Canny Edge Detection and Hough Tranform line detection.  You  are also free to explore and try other techniques that were not presented in the lesson.  Your goal is piece together a pipeline to detect the line segments in the image, then average/extrapolate them and draw them onto the image for display (as below).  Once you have a working pipeline, try it out on the video stream below.**\n",
    "\n",
    "---\n",
    "\n",
    "<figure>\n",
    " <img src=\"examples/line-segments-example.jpg\" width=\"380\" alt=\"Combined Image\" />\n",
    " <figcaption>\n",
    " <p></p> \n",
    " <p style=\"text-align: center;\"> Your output should look something like this (above) after detecting line segments using the helper functions below </p> \n",
    " </figcaption>\n",
    "</figure>\n",
    " <p></p> \n",
    "<figure>\n",
    " <img src=\"examples/laneLines_thirdPass.jpg\" width=\"380\" alt=\"Combined Image\" />\n",
    " <figcaption>\n",
    " <p></p> \n",
    " <p style=\"text-align: center;\"> Your goal is to connect/average/extrapolate line segments to get output like this</p> \n",
    " </figcaption>\n",
    "</figure>"
   ]
  },
  {
   "cell_type": "markdown",
   "metadata": {},
   "source": [
    "**Run the cell below to import some packages.  If you get an `import error` for a package you've already installed, try changing your kernel (select the Kernel menu above --> Change Kernel).  Still have problems?  Try relaunching Jupyter Notebook from the terminal prompt.  Also, consult the forums for more troubleshooting tips.**  "
   ]
  },
  {
   "cell_type": "markdown",
   "metadata": {},
   "source": [
    "## Import Packages"
   ]
  },
  {
   "cell_type": "code",
   "execution_count": null,
   "metadata": {
    "collapsed": false
   },
   "outputs": [],
   "source": [
    "#importing some useful packages\n",
    "import matplotlib.pyplot as plt\n",
    "import matplotlib.image as mpimg\n",
    "import numpy as np\n",
    "import cv2\n",
    "%matplotlib inline"
   ]
  },
  {
   "cell_type": "markdown",
   "metadata": {},
   "source": [
    "## Read in an Image"
   ]
  },
  {
   "cell_type": "code",
   "execution_count": null,
   "metadata": {
    "collapsed": false
   },
   "outputs": [],
   "source": [
    "#reading in an image\n",
    "image = mpimg.imread('test_images/solidWhiteRight.jpg')\n",
    "\n",
    "#printing out some stats and plotting\n",
    "print('This image is:', type(image), 'with dimensions:', image.shape)\n",
    "plt.imshow(image)  # if you wanted to show a single color channel image called 'gray', for example, call as plt.imshow(gray, cmap='gray')"
   ]
  },
  {
   "cell_type": "markdown",
   "metadata": {},
   "source": [
    "## Ideas for Lane Detection Pipeline"
   ]
  },
  {
   "cell_type": "markdown",
   "metadata": {},
   "source": [
    "**Some OpenCV functions (beyond those introduced in the lesson) that might be useful for this project are:**\n",
    "\n",
    "`cv2.inRange()` for color selection  \n",
    "`cv2.fillPoly()` for regions selection  \n",
    "`cv2.line()` to draw lines on an image given endpoints  \n",
    "`cv2.addWeighted()` to coadd / overlay two images  \n",
    "`cv2.cvtColor()` to grayscale or change color  \n",
    "`cv2.imwrite()` to output images to file  \n",
    "`cv2.bitwise_and()` to apply a mask to an image\n",
    "\n",
    "**Check out the OpenCV documentation to learn about these and discover even more awesome functionality!**"
   ]
  },
  {
   "cell_type": "markdown",
   "metadata": {},
   "source": [
    "## Helper Functions"
   ]
  },
  {
   "cell_type": "markdown",
   "metadata": {},
   "source": [
    "Below are some helper functions to help get you started. They should look familiar from the lesson!"
   ]
  },
  {
   "cell_type": "code",
   "execution_count": null,
   "metadata": {
    "collapsed": true
   },
   "outputs": [],
   "source": [
    "import math\n",
    "\n",
    "def grayscale(img):\n",
    "    \"\"\"Applies the Grayscale transform\n",
    "    This will return an image with only one color channel\n",
    "    but NOTE: to see the returned image as grayscale\n",
    "    (assuming your grayscaled image is called 'gray')\n",
    "    you should call plt.imshow(gray, cmap='gray')\"\"\"\n",
    "    return cv2.cvtColor(img, cv2.COLOR_RGB2GRAY)\n",
    "    # Or use BGR2GRAY if you read an image with cv2.imread()\n",
    "    # return cv2.cvtColor(img, cv2.COLOR_BGR2GRAY)\n",
    "    \n",
    "def canny(img, low_threshold, high_threshold):\n",
    "    \"\"\"Applies the Canny transform\"\"\"\n",
    "    return cv2.Canny(img, low_threshold, high_threshold)\n",
    "\n",
    "def gaussian_blur(img, kernel_size):\n",
    "    \"\"\"Applies a Gaussian Noise kernel\"\"\"\n",
    "    return cv2.GaussianBlur(img, (kernel_size, kernel_size), 0)\n",
    "\n",
    "def region_of_interest(img, vertices):\n",
    "    \"\"\"\n",
    "    Applies an image mask.\n",
    "    \n",
    "    Only keeps the region of the image defined by the polygon\n",
    "    formed from `vertices`. The rest of the image is set to black.\n",
    "    `vertices` should be a numpy array of integer points.\n",
    "    \"\"\"\n",
    "    #defining a blank mask to start with\n",
    "    mask = np.zeros_like(img)   \n",
    "    \n",
    "    #defining a 3 channel or 1 channel color to fill the mask with depending on the input image\n",
    "    if len(img.shape) > 2:\n",
    "        channel_count = img.shape[2]  # i.e. 3 or 4 depending on your image\n",
    "        ignore_mask_color = (255,) * channel_count\n",
    "    else:\n",
    "        ignore_mask_color = 255\n",
    "        \n",
    "    #filling pixels inside the polygon defined by \"vertices\" with the fill color    \n",
    "    cv2.fillPoly(mask, vertices, ignore_mask_color)\n",
    "    \n",
    "    #returning the image only where mask pixels are nonzero\n",
    "    masked_image = cv2.bitwise_and(img, mask)\n",
    "    return masked_image\n",
    "\n",
    "\n",
    "def draw_lines(img, lines, color=[255, 0, 0], thickness=2):\n",
    "    \"\"\"\n",
    "    NOTE: this is the function you might want to use as a starting point once you want to \n",
    "    average/extrapolate the line segments you detect to map out the full\n",
    "    extent of the lane (going from the result shown in raw-lines-example.mp4\n",
    "    to that shown in P1_example.mp4).  \n",
    "    \n",
    "    Think about things like separating line segments by their \n",
    "    slope ((y2-y1)/(x2-x1)) to decide which segments are part of the left\n",
    "    line vs. the right line.  Then, you can average the position of each of \n",
    "    the lines and extrapolate to the top and bottom of the lane.\n",
    "    \n",
    "    This function draws `lines` with `color` and `thickness`.    \n",
    "    Lines are drawn on the image inplace (mutates the image).\n",
    "    If you want to make the lines semi-transparent, think about combining\n",
    "    this function with the weighted_img() function below\n",
    "    \"\"\"\n",
    "    for line in lines:\n",
    "        for x1,y1,x2,y2 in line:\n",
    "            cv2.line(img, (x1, y1), (x2, y2), color, thickness)\n",
    "\n",
    "def hough_lines(img, rho, theta, threshold, min_line_len, max_line_gap):\n",
    "    \"\"\"\n",
    "    `img` should be the output of a Canny transform.\n",
    "        \n",
    "    Returns an image with hough lines drawn.\n",
    "    \"\"\"\n",
    "    lines = cv2.HoughLinesP(img, rho, theta, threshold, np.array([]), minLineLength=min_line_len, maxLineGap=max_line_gap)\n",
    "    line_img = np.zeros((img.shape[0], img.shape[1], 3), dtype=np.uint8)\n",
    "    draw_lines(line_img, lines)\n",
    "    return line_img\n",
    "\n",
    "# Python 3 has support for cool math symbols.\n",
    "\n",
    "def weighted_img(img, initial_img, α=0.8, β=1., γ=0.):\n",
    "    \"\"\"\n",
    "    `img` is the output of the hough_lines(), An image with lines drawn on it.\n",
    "    Should be a blank image (all black) with lines drawn on it.\n",
    "    \n",
    "    `initial_img` should be the image before any processing.\n",
    "    \n",
    "    The result image is computed as follows:\n",
    "    \n",
    "    initial_img * α + img * β + γ\n",
    "    NOTE: initial_img and img must be the same shape!\n",
    "    \"\"\"\n",
    "    return cv2.addWeighted(initial_img, α, img, β, γ)"
   ]
  },
  {
   "cell_type": "markdown",
   "metadata": {},
   "source": [
    "## Test Images\n",
    "\n",
    "Build your pipeline to work on the images in the directory \"test_images\"  \n",
    "**You should make sure your pipeline works well on these images before you try the videos.**"
   ]
  },
  {
   "cell_type": "code",
   "execution_count": null,
   "metadata": {
    "collapsed": false
   },
   "outputs": [],
   "source": [
    "import os\n",
    "os.listdir(\"test_images/\")"
   ]
  },
  {
   "cell_type": "markdown",
   "metadata": {},
   "source": [
    "## Build a Lane Finding Pipeline\n",
    "\n"
   ]
  },
  {
   "cell_type": "markdown",
   "metadata": {},
   "source": [
    "Build the pipeline and run your solution on all test_images. Make copies into the `test_images_output` directory, and you can use the images in your writeup report.\n",
    "\n",
    "Try tuning the various parameters, especially the low and high Canny thresholds as well as the Hough lines parameters."
   ]
  },
  {
   "cell_type": "code",
   "execution_count": null,
   "metadata": {
    "collapsed": true
   },
   "outputs": [],
   "source": [
    "# TODO: Build your pipeline that will draw lane lines on the test_images\n",
    "# then save them to the test_images_output directory."
   ]
  },
  {
   "cell_type": "markdown",
   "metadata": {},
   "source": [
    "## Test on Videos\n",
    "\n",
    "You know what's cooler than drawing lanes over images? Drawing lanes over video!\n",
    "\n",
    "We can test our solution on two provided videos:\n",
    "\n",
    "`solidWhiteRight.mp4`\n",
    "\n",
    "`solidYellowLeft.mp4`\n",
    "\n",
    "**Note: if you get an import error when you run the next cell, try changing your kernel (select the Kernel menu above --> Change Kernel). Still have problems? Try relaunching Jupyter Notebook from the terminal prompt. Also, consult the forums for more troubleshooting tips.**\n",
    "\n",
    "**If you get an error that looks like this:**\n",
    "```\n",
    "NeedDownloadError: Need ffmpeg exe. \n",
    "You can download it by calling: \n",
    "imageio.plugins.ffmpeg.download()\n",
    "```\n",
    "**Follow the instructions in the error message and check out [this forum post](https://discussions.udacity.com/t/project-error-of-test-on-videos/274082) for more troubleshooting tips across operating systems.**"
   ]
  },
  {
   "cell_type": "code",
   "execution_count": null,
   "metadata": {
    "collapsed": true
   },
   "outputs": [],
   "source": [
    "# Import everything needed to edit/save/watch video clips\n",
    "from moviepy.editor import VideoFileClip\n",
    "from IPython.display import HTML"
   ]
  },
  {
   "cell_type": "code",
   "execution_count": null,
   "metadata": {
    "collapsed": true
   },
   "outputs": [],
   "source": [
    "def process_image(image):\n",
    "    # NOTE: The output you return should be a color image (3 channel) for processing video below\n",
    "    # TODO: put your pipeline here,\n",
    "    # you should return the final output (image where lines are drawn on lanes)\n",
    "\n",
    "    return result"
   ]
  },
  {
   "cell_type": "markdown",
   "metadata": {},
   "source": [
    "Let's try the one with the solid white lane on the right first ..."
   ]
  },
  {
   "cell_type": "code",
   "execution_count": 17,
   "metadata": {},
   "outputs": [
    {
     "output_type": "execute_result",
     "data": {
      "text/plain": "<matplotlib.image.AxesImage at 0x245f6992cd0>"
     },
     "metadata": {},
     "execution_count": 17
    },
    {
     "output_type": "display_data",
     "data": {
      "text/plain": "<Figure size 432x288 with 1 Axes>",
      "image/svg+xml": "<?xml version=\"1.0\" encoding=\"utf-8\" standalone=\"no\"?>\r\n<!DOCTYPE svg PUBLIC \"-//W3C//DTD SVG 1.1//EN\"\r\n  \"http://www.w3.org/Graphics/SVG/1.1/DTD/svg11.dtd\">\r\n<!-- Created with matplotlib (https://matplotlib.org/) -->\r\n<svg height=\"223.027969pt\" version=\"1.1\" viewBox=\"0 0 375.2875 223.027969\" width=\"375.2875pt\" xmlns=\"http://www.w3.org/2000/svg\" xmlns:xlink=\"http://www.w3.org/1999/xlink\">\r\n <defs>\r\n  <style type=\"text/css\">\r\n*{stroke-linecap:butt;stroke-linejoin:round;}\r\n  </style>\r\n </defs>\r\n <g id=\"figure_1\">\r\n  <g id=\"patch_1\">\r\n   <path d=\"M 0 223.027969 \r\nL 375.2875 223.027969 \r\nL 375.2875 0 \r\nL 0 0 \r\nz\r\n\" style=\"fill:none;\"/>\r\n  </g>\r\n  <g id=\"axes_1\">\r\n   <g id=\"patch_2\">\r\n    <path d=\"M 33.2875 199.149844 \r\nL 368.0875 199.149844 \r\nL 368.0875 10.824844 \r\nL 33.2875 10.824844 \r\nz\r\n\" style=\"fill:#ffffff;\"/>\r\n   </g>\r\n   <g clip-path=\"url(#p7424b334af)\">\r\n    <image height=\"189\" id=\"image22885bd439\" transform=\"scale(1 -1)translate(0 -189)\" width=\"335\" x=\"33.2875\" xlink:href=\"data:image/png;base64,\r\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\" y=\"-10.149844\"/>\r\n   </g>\r\n   <g id=\"matplotlib.axis_1\">\r\n    <g id=\"xtick_1\">\r\n     <g id=\"line2d_1\">\r\n      <defs>\r\n       <path d=\"M 0 0 \r\nL 0 3.5 \r\n\" id=\"m443103e902\" style=\"stroke:#000000;stroke-width:0.8;\"/>\r\n      </defs>\r\n      <g>\r\n       <use style=\"stroke:#000000;stroke-width:0.8;\" x=\"33.461875\" xlink:href=\"#m443103e902\" y=\"199.149844\"/>\r\n      </g>\r\n     </g>\r\n     <g id=\"text_1\">\r\n      <!-- 0 -->\r\n      <defs>\r\n       <path d=\"M 31.78125 66.40625 \r\nQ 24.171875 66.40625 20.328125 58.90625 \r\nQ 16.5 51.421875 16.5 36.375 \r\nQ 16.5 21.390625 20.328125 13.890625 \r\nQ 24.171875 6.390625 31.78125 6.390625 \r\nQ 39.453125 6.390625 43.28125 13.890625 \r\nQ 47.125 21.390625 47.125 36.375 \r\nQ 47.125 51.421875 43.28125 58.90625 \r\nQ 39.453125 66.40625 31.78125 66.40625 \r\nz\r\nM 31.78125 74.21875 \r\nQ 44.046875 74.21875 50.515625 64.515625 \r\nQ 56.984375 54.828125 56.984375 36.375 \r\nQ 56.984375 17.96875 50.515625 8.265625 \r\nQ 44.046875 -1.421875 31.78125 -1.421875 \r\nQ 19.53125 -1.421875 13.0625 8.265625 \r\nQ 6.59375 17.96875 6.59375 36.375 \r\nQ 6.59375 54.828125 13.0625 64.515625 \r\nQ 19.53125 74.21875 31.78125 74.21875 \r\nz\r\n\" id=\"DejaVuSans-48\"/>\r\n      </defs>\r\n      <g transform=\"translate(30.280625 213.748281)scale(0.1 -0.1)\">\r\n       <use xlink:href=\"#DejaVuSans-48\"/>\r\n      </g>\r\n     </g>\r\n    </g>\r\n    <g id=\"xtick_2\">\r\n     <g id=\"line2d_2\">\r\n      <g>\r\n       <use style=\"stroke:#000000;stroke-width:0.8;\" x=\"103.211875\" xlink:href=\"#m443103e902\" y=\"199.149844\"/>\r\n      </g>\r\n     </g>\r\n     <g id=\"text_2\">\r\n      <!-- 200 -->\r\n      <defs>\r\n       <path d=\"M 19.1875 8.296875 \r\nL 53.609375 8.296875 \r\nL 53.609375 0 \r\nL 7.328125 0 \r\nL 7.328125 8.296875 \r\nQ 12.9375 14.109375 22.625 23.890625 \r\nQ 32.328125 33.6875 34.8125 36.53125 \r\nQ 39.546875 41.84375 41.421875 45.53125 \r\nQ 43.3125 49.21875 43.3125 52.78125 \r\nQ 43.3125 58.59375 39.234375 62.25 \r\nQ 35.15625 65.921875 28.609375 65.921875 \r\nQ 23.96875 65.921875 18.8125 64.3125 \r\nQ 13.671875 62.703125 7.8125 59.421875 \r\nL 7.8125 69.390625 \r\nQ 13.765625 71.78125 18.9375 73 \r\nQ 24.125 74.21875 28.421875 74.21875 \r\nQ 39.75 74.21875 46.484375 68.546875 \r\nQ 53.21875 62.890625 53.21875 53.421875 \r\nQ 53.21875 48.921875 51.53125 44.890625 \r\nQ 49.859375 40.875 45.40625 35.40625 \r\nQ 44.1875 33.984375 37.640625 27.21875 \r\nQ 31.109375 20.453125 19.1875 8.296875 \r\nz\r\n\" id=\"DejaVuSans-50\"/>\r\n      </defs>\r\n      <g transform=\"translate(93.668125 213.748281)scale(0.1 -0.1)\">\r\n       <use xlink:href=\"#DejaVuSans-50\"/>\r\n       <use x=\"63.623047\" xlink:href=\"#DejaVuSans-48\"/>\r\n       <use x=\"127.246094\" xlink:href=\"#DejaVuSans-48\"/>\r\n      </g>\r\n     </g>\r\n    </g>\r\n    <g id=\"xtick_3\">\r\n     <g id=\"line2d_3\">\r\n      <g>\r\n       <use style=\"stroke:#000000;stroke-width:0.8;\" x=\"172.961875\" xlink:href=\"#m443103e902\" y=\"199.149844\"/>\r\n      </g>\r\n     </g>\r\n     <g id=\"text_3\">\r\n      <!-- 400 -->\r\n      <defs>\r\n       <path d=\"M 37.796875 64.3125 \r\nL 12.890625 25.390625 \r\nL 37.796875 25.390625 \r\nz\r\nM 35.203125 72.90625 \r\nL 47.609375 72.90625 \r\nL 47.609375 25.390625 \r\nL 58.015625 25.390625 \r\nL 58.015625 17.1875 \r\nL 47.609375 17.1875 \r\nL 47.609375 0 \r\nL 37.796875 0 \r\nL 37.796875 17.1875 \r\nL 4.890625 17.1875 \r\nL 4.890625 26.703125 \r\nz\r\n\" id=\"DejaVuSans-52\"/>\r\n      </defs>\r\n      <g transform=\"translate(163.418125 213.748281)scale(0.1 -0.1)\">\r\n       <use xlink:href=\"#DejaVuSans-52\"/>\r\n       <use x=\"63.623047\" xlink:href=\"#DejaVuSans-48\"/>\r\n       <use x=\"127.246094\" xlink:href=\"#DejaVuSans-48\"/>\r\n      </g>\r\n     </g>\r\n    </g>\r\n    <g id=\"xtick_4\">\r\n     <g id=\"line2d_4\">\r\n      <g>\r\n       <use style=\"stroke:#000000;stroke-width:0.8;\" x=\"242.711875\" xlink:href=\"#m443103e902\" y=\"199.149844\"/>\r\n      </g>\r\n     </g>\r\n     <g id=\"text_4\">\r\n      <!-- 600 -->\r\n      <defs>\r\n       <path d=\"M 33.015625 40.375 \r\nQ 26.375 40.375 22.484375 35.828125 \r\nQ 18.609375 31.296875 18.609375 23.390625 \r\nQ 18.609375 15.53125 22.484375 10.953125 \r\nQ 26.375 6.390625 33.015625 6.390625 \r\nQ 39.65625 6.390625 43.53125 10.953125 \r\nQ 47.40625 15.53125 47.40625 23.390625 \r\nQ 47.40625 31.296875 43.53125 35.828125 \r\nQ 39.65625 40.375 33.015625 40.375 \r\nz\r\nM 52.59375 71.296875 \r\nL 52.59375 62.3125 \r\nQ 48.875 64.0625 45.09375 64.984375 \r\nQ 41.3125 65.921875 37.59375 65.921875 \r\nQ 27.828125 65.921875 22.671875 59.328125 \r\nQ 17.53125 52.734375 16.796875 39.40625 \r\nQ 19.671875 43.65625 24.015625 45.921875 \r\nQ 28.375 48.1875 33.59375 48.1875 \r\nQ 44.578125 48.1875 50.953125 41.515625 \r\nQ 57.328125 34.859375 57.328125 23.390625 \r\nQ 57.328125 12.15625 50.6875 5.359375 \r\nQ 44.046875 -1.421875 33.015625 -1.421875 \r\nQ 20.359375 -1.421875 13.671875 8.265625 \r\nQ 6.984375 17.96875 6.984375 36.375 \r\nQ 6.984375 53.65625 15.1875 63.9375 \r\nQ 23.390625 74.21875 37.203125 74.21875 \r\nQ 40.921875 74.21875 44.703125 73.484375 \r\nQ 48.484375 72.75 52.59375 71.296875 \r\nz\r\n\" id=\"DejaVuSans-54\"/>\r\n      </defs>\r\n      <g transform=\"translate(233.168125 213.748281)scale(0.1 -0.1)\">\r\n       <use xlink:href=\"#DejaVuSans-54\"/>\r\n       <use x=\"63.623047\" xlink:href=\"#DejaVuSans-48\"/>\r\n       <use x=\"127.246094\" xlink:href=\"#DejaVuSans-48\"/>\r\n      </g>\r\n     </g>\r\n    </g>\r\n    <g id=\"xtick_5\">\r\n     <g id=\"line2d_5\">\r\n      <g>\r\n       <use style=\"stroke:#000000;stroke-width:0.8;\" x=\"312.461875\" xlink:href=\"#m443103e902\" y=\"199.149844\"/>\r\n      </g>\r\n     </g>\r\n     <g id=\"text_5\">\r\n      <!-- 800 -->\r\n      <defs>\r\n       <path d=\"M 31.78125 34.625 \r\nQ 24.75 34.625 20.71875 30.859375 \r\nQ 16.703125 27.09375 16.703125 20.515625 \r\nQ 16.703125 13.921875 20.71875 10.15625 \r\nQ 24.75 6.390625 31.78125 6.390625 \r\nQ 38.8125 6.390625 42.859375 10.171875 \r\nQ 46.921875 13.96875 46.921875 20.515625 \r\nQ 46.921875 27.09375 42.890625 30.859375 \r\nQ 38.875 34.625 31.78125 34.625 \r\nz\r\nM 21.921875 38.8125 \r\nQ 15.578125 40.375 12.03125 44.71875 \r\nQ 8.5 49.078125 8.5 55.328125 \r\nQ 8.5 64.0625 14.71875 69.140625 \r\nQ 20.953125 74.21875 31.78125 74.21875 \r\nQ 42.671875 74.21875 48.875 69.140625 \r\nQ 55.078125 64.0625 55.078125 55.328125 \r\nQ 55.078125 49.078125 51.53125 44.71875 \r\nQ 48 40.375 41.703125 38.8125 \r\nQ 48.828125 37.15625 52.796875 32.3125 \r\nQ 56.78125 27.484375 56.78125 20.515625 \r\nQ 56.78125 9.90625 50.3125 4.234375 \r\nQ 43.84375 -1.421875 31.78125 -1.421875 \r\nQ 19.734375 -1.421875 13.25 4.234375 \r\nQ 6.78125 9.90625 6.78125 20.515625 \r\nQ 6.78125 27.484375 10.78125 32.3125 \r\nQ 14.796875 37.15625 21.921875 38.8125 \r\nz\r\nM 18.3125 54.390625 \r\nQ 18.3125 48.734375 21.84375 45.5625 \r\nQ 25.390625 42.390625 31.78125 42.390625 \r\nQ 38.140625 42.390625 41.71875 45.5625 \r\nQ 45.3125 48.734375 45.3125 54.390625 \r\nQ 45.3125 60.0625 41.71875 63.234375 \r\nQ 38.140625 66.40625 31.78125 66.40625 \r\nQ 25.390625 66.40625 21.84375 63.234375 \r\nQ 18.3125 60.0625 18.3125 54.390625 \r\nz\r\n\" id=\"DejaVuSans-56\"/>\r\n      </defs>\r\n      <g transform=\"translate(302.918125 213.748281)scale(0.1 -0.1)\">\r\n       <use xlink:href=\"#DejaVuSans-56\"/>\r\n       <use x=\"63.623047\" xlink:href=\"#DejaVuSans-48\"/>\r\n       <use x=\"127.246094\" xlink:href=\"#DejaVuSans-48\"/>\r\n      </g>\r\n     </g>\r\n    </g>\r\n   </g>\r\n   <g id=\"matplotlib.axis_2\">\r\n    <g id=\"ytick_1\">\r\n     <g id=\"line2d_6\">\r\n      <defs>\r\n       <path d=\"M 0 0 \r\nL -3.5 0 \r\n\" id=\"m6631fe93e7\" style=\"stroke:#000000;stroke-width:0.8;\"/>\r\n      </defs>\r\n      <g>\r\n       <use style=\"stroke:#000000;stroke-width:0.8;\" x=\"33.2875\" xlink:href=\"#m6631fe93e7\" y=\"10.999219\"/>\r\n      </g>\r\n     </g>\r\n     <g id=\"text_6\">\r\n      <!-- 0 -->\r\n      <g transform=\"translate(19.925 14.798438)scale(0.1 -0.1)\">\r\n       <use xlink:href=\"#DejaVuSans-48\"/>\r\n      </g>\r\n     </g>\r\n    </g>\r\n    <g id=\"ytick_2\">\r\n     <g id=\"line2d_7\">\r\n      <g>\r\n       <use style=\"stroke:#000000;stroke-width:0.8;\" x=\"33.2875\" xlink:href=\"#m6631fe93e7\" y=\"45.874219\"/>\r\n      </g>\r\n     </g>\r\n     <g id=\"text_7\">\r\n      <!-- 100 -->\r\n      <defs>\r\n       <path d=\"M 12.40625 8.296875 \r\nL 28.515625 8.296875 \r\nL 28.515625 63.921875 \r\nL 10.984375 60.40625 \r\nL 10.984375 69.390625 \r\nL 28.421875 72.90625 \r\nL 38.28125 72.90625 \r\nL 38.28125 8.296875 \r\nL 54.390625 8.296875 \r\nL 54.390625 0 \r\nL 12.40625 0 \r\nz\r\n\" id=\"DejaVuSans-49\"/>\r\n      </defs>\r\n      <g transform=\"translate(7.2 49.673438)scale(0.1 -0.1)\">\r\n       <use xlink:href=\"#DejaVuSans-49\"/>\r\n       <use x=\"63.623047\" xlink:href=\"#DejaVuSans-48\"/>\r\n       <use x=\"127.246094\" xlink:href=\"#DejaVuSans-48\"/>\r\n      </g>\r\n     </g>\r\n    </g>\r\n    <g id=\"ytick_3\">\r\n     <g id=\"line2d_8\">\r\n      <g>\r\n       <use style=\"stroke:#000000;stroke-width:0.8;\" x=\"33.2875\" xlink:href=\"#m6631fe93e7\" y=\"80.749219\"/>\r\n      </g>\r\n     </g>\r\n     <g id=\"text_8\">\r\n      <!-- 200 -->\r\n      <g transform=\"translate(7.2 84.548438)scale(0.1 -0.1)\">\r\n       <use xlink:href=\"#DejaVuSans-50\"/>\r\n       <use x=\"63.623047\" xlink:href=\"#DejaVuSans-48\"/>\r\n       <use x=\"127.246094\" xlink:href=\"#DejaVuSans-48\"/>\r\n      </g>\r\n     </g>\r\n    </g>\r\n    <g id=\"ytick_4\">\r\n     <g id=\"line2d_9\">\r\n      <g>\r\n       <use style=\"stroke:#000000;stroke-width:0.8;\" x=\"33.2875\" xlink:href=\"#m6631fe93e7\" y=\"115.624219\"/>\r\n      </g>\r\n     </g>\r\n     <g id=\"text_9\">\r\n      <!-- 300 -->\r\n      <defs>\r\n       <path d=\"M 40.578125 39.3125 \r\nQ 47.65625 37.796875 51.625 33 \r\nQ 55.609375 28.21875 55.609375 21.1875 \r\nQ 55.609375 10.40625 48.1875 4.484375 \r\nQ 40.765625 -1.421875 27.09375 -1.421875 \r\nQ 22.515625 -1.421875 17.65625 -0.515625 \r\nQ 12.796875 0.390625 7.625 2.203125 \r\nL 7.625 11.71875 \r\nQ 11.71875 9.328125 16.59375 8.109375 \r\nQ 21.484375 6.890625 26.8125 6.890625 \r\nQ 36.078125 6.890625 40.9375 10.546875 \r\nQ 45.796875 14.203125 45.796875 21.1875 \r\nQ 45.796875 27.640625 41.28125 31.265625 \r\nQ 36.765625 34.90625 28.71875 34.90625 \r\nL 20.21875 34.90625 \r\nL 20.21875 43.015625 \r\nL 29.109375 43.015625 \r\nQ 36.375 43.015625 40.234375 45.921875 \r\nQ 44.09375 48.828125 44.09375 54.296875 \r\nQ 44.09375 59.90625 40.109375 62.90625 \r\nQ 36.140625 65.921875 28.71875 65.921875 \r\nQ 24.65625 65.921875 20.015625 65.03125 \r\nQ 15.375 64.15625 9.8125 62.3125 \r\nL 9.8125 71.09375 \r\nQ 15.4375 72.65625 20.34375 73.4375 \r\nQ 25.25 74.21875 29.59375 74.21875 \r\nQ 40.828125 74.21875 47.359375 69.109375 \r\nQ 53.90625 64.015625 53.90625 55.328125 \r\nQ 53.90625 49.265625 50.4375 45.09375 \r\nQ 46.96875 40.921875 40.578125 39.3125 \r\nz\r\n\" id=\"DejaVuSans-51\"/>\r\n      </defs>\r\n      <g transform=\"translate(7.2 119.423438)scale(0.1 -0.1)\">\r\n       <use xlink:href=\"#DejaVuSans-51\"/>\r\n       <use x=\"63.623047\" xlink:href=\"#DejaVuSans-48\"/>\r\n       <use x=\"127.246094\" xlink:href=\"#DejaVuSans-48\"/>\r\n      </g>\r\n     </g>\r\n    </g>\r\n    <g id=\"ytick_5\">\r\n     <g id=\"line2d_10\">\r\n      <g>\r\n       <use style=\"stroke:#000000;stroke-width:0.8;\" x=\"33.2875\" xlink:href=\"#m6631fe93e7\" y=\"150.499219\"/>\r\n      </g>\r\n     </g>\r\n     <g id=\"text_10\">\r\n      <!-- 400 -->\r\n      <g transform=\"translate(7.2 154.298438)scale(0.1 -0.1)\">\r\n       <use xlink:href=\"#DejaVuSans-52\"/>\r\n       <use x=\"63.623047\" xlink:href=\"#DejaVuSans-48\"/>\r\n       <use x=\"127.246094\" xlink:href=\"#DejaVuSans-48\"/>\r\n      </g>\r\n     </g>\r\n    </g>\r\n    <g id=\"ytick_6\">\r\n     <g id=\"line2d_11\">\r\n      <g>\r\n       <use style=\"stroke:#000000;stroke-width:0.8;\" x=\"33.2875\" xlink:href=\"#m6631fe93e7\" y=\"185.374219\"/>\r\n      </g>\r\n     </g>\r\n     <g id=\"text_11\">\r\n      <!-- 500 -->\r\n      <defs>\r\n       <path d=\"M 10.796875 72.90625 \r\nL 49.515625 72.90625 \r\nL 49.515625 64.59375 \r\nL 19.828125 64.59375 \r\nL 19.828125 46.734375 \r\nQ 21.96875 47.46875 24.109375 47.828125 \r\nQ 26.265625 48.1875 28.421875 48.1875 \r\nQ 40.625 48.1875 47.75 41.5 \r\nQ 54.890625 34.8125 54.890625 23.390625 \r\nQ 54.890625 11.625 47.5625 5.09375 \r\nQ 40.234375 -1.421875 26.90625 -1.421875 \r\nQ 22.3125 -1.421875 17.546875 -0.640625 \r\nQ 12.796875 0.140625 7.71875 1.703125 \r\nL 7.71875 11.625 \r\nQ 12.109375 9.234375 16.796875 8.0625 \r\nQ 21.484375 6.890625 26.703125 6.890625 \r\nQ 35.15625 6.890625 40.078125 11.328125 \r\nQ 45.015625 15.765625 45.015625 23.390625 \r\nQ 45.015625 31 40.078125 35.4375 \r\nQ 35.15625 39.890625 26.703125 39.890625 \r\nQ 22.75 39.890625 18.8125 39.015625 \r\nQ 14.890625 38.140625 10.796875 36.28125 \r\nz\r\n\" id=\"DejaVuSans-53\"/>\r\n      </defs>\r\n      <g transform=\"translate(7.2 189.173438)scale(0.1 -0.1)\">\r\n       <use xlink:href=\"#DejaVuSans-53\"/>\r\n       <use x=\"63.623047\" xlink:href=\"#DejaVuSans-48\"/>\r\n       <use x=\"127.246094\" xlink:href=\"#DejaVuSans-48\"/>\r\n      </g>\r\n     </g>\r\n    </g>\r\n   </g>\r\n   <g id=\"patch_3\">\r\n    <path d=\"M 33.2875 199.149844 \r\nL 33.2875 10.824844 \r\n\" style=\"fill:none;stroke:#000000;stroke-linecap:square;stroke-linejoin:miter;stroke-width:0.8;\"/>\r\n   </g>\r\n   <g id=\"patch_4\">\r\n    <path d=\"M 368.0875 199.149844 \r\nL 368.0875 10.824844 \r\n\" style=\"fill:none;stroke:#000000;stroke-linecap:square;stroke-linejoin:miter;stroke-width:0.8;\"/>\r\n   </g>\r\n   <g id=\"patch_5\">\r\n    <path d=\"M 33.2875 199.149844 \r\nL 368.0875 199.149844 \r\n\" style=\"fill:none;stroke:#000000;stroke-linecap:square;stroke-linejoin:miter;stroke-width:0.8;\"/>\r\n   </g>\r\n   <g id=\"patch_6\">\r\n    <path d=\"M 33.2875 10.824844 \r\nL 368.0875 10.824844 \r\n\" style=\"fill:none;stroke:#000000;stroke-linecap:square;stroke-linejoin:miter;stroke-width:0.8;\"/>\r\n   </g>\r\n  </g>\r\n </g>\r\n <defs>\r\n  <clipPath id=\"p7424b334af\">\r\n   <rect height=\"188.325\" width=\"334.8\" x=\"33.2875\" y=\"10.824844\"/>\r\n  </clipPath>\r\n </defs>\r\n</svg>\r\n",
      "image/png": "[encoded data removed]"
     },
     "metadata": {
      "needs_background": "light"
     }
    }
   ],
   "source": [
    "image = mpimg.imread('test_images/solidWhiteRight.jpg')\n",
    "imshape = image.shape\n",
    "vertices = np.array([[(0,imshape[0]),(450, 290), (490,290), (imshape[1],imshape[0])]], dtype=np.int32)\n",
    "g_img=grayscale(image)\n",
    "kernel_size = 5\n",
    "blur= gaussian_blur(g_img,kernel_size)\n",
    "modified=region_of_interest(blur,vertices)\n",
    "c_img=canny(modified,50,150)\n",
    "rho = 2 # distance resolution in pixels of the Hough grid\n",
    "theta = np.pi/180 # angular resolution in radians of the Hough grid\n",
    "threshold = 1     # minimum number of votes (intersections in Hough grid cell)\n",
    "min_line_length = 5 #minimum number of pixels making up a line\n",
    "max_line_gap = 1    # maximum gap in pixels between connectable line segments\n",
    "hough_img=hough_lines(c_img,rho,theta,threshold,min_line_length,max_line_gap)\n",
    "# line_img= draw_lines(houg_img,)\n",
    "plt.imshow(hough_img)"
   ]
  },
  {
   "cell_type": "code",
   "execution_count": null,
   "metadata": {
    "collapsed": false
   },
   "outputs": [],
   "source": [
    "white_output = 'test_videos_output/solidWhiteRight.mp4'\n",
    "## To speed up the testing process you may want to try your pipeline on a shorter subclip of the video\n",
    "## To do so add .subclip(start_second,end_second) to the end of the line below\n",
    "## Where start_second and end_second are integer values representing the start and end of the subclip\n",
    "## You may also uncomment the following line for a subclip of the first 5 seconds\n",
    "##clip1 = VideoFileClip(\"test_videos/solidWhiteRight.mp4\").subclip(0,5)\n",
    "clip1 = VideoFileClip(\"test_videos/solidWhiteRight.mp4\")\n",
    "white_clip = clip1.fl_image(process_image) #NOTE: this function expects color images!!\n",
    "%time white_clip.write_videofile(white_output, audio=False)"
   ]
  },
  {
   "cell_type": "markdown",
   "metadata": {},
   "source": [
    "Play the video inline, or if you prefer find the video in your filesystem (should be in the same directory) and play it in your video player of choice."
   ]
  },
  {
   "cell_type": "code",
   "execution_count": null,
   "metadata": {
    "collapsed": false
   },
   "outputs": [],
   "source": [
    "HTML(\"\"\"\n",
    "<video width=\"960\" height=\"540\" controls>\n",
    "  <source src=\"{0}\">\n",
    "</video>\n",
    "\"\"\".format(white_output))"
   ]
  },
  {
   "cell_type": "markdown",
   "metadata": {},
   "source": [
    "## Improve the draw_lines() function\n",
    "\n",
    "**At this point, if you were successful with making the pipeline and tuning parameters, you probably have the Hough line segments drawn onto the road, but what about identifying the full extent of the lane and marking it clearly as in the example video (P1_example.mp4)?  Think about defining a line to run the full length of the visible lane based on the line segments you identified with the Hough Transform. As mentioned previously, try to average and/or extrapolate the line segments you've detected to map out the full extent of the lane lines. You can see an example of the result you're going for in the video \"P1_example.mp4\".**\n",
    "\n",
    "**Go back and modify your draw_lines function accordingly and try re-running your pipeline. The new output should draw a single, solid line over the left lane line and a single, solid line over the right lane line. The lines should start from the bottom of the image and extend out to the top of the region of interest.**"
   ]
  },
  {
   "cell_type": "markdown",
   "metadata": {},
   "source": [
    "Now for the one with the solid yellow lane on the left. This one's more tricky!"
   ]
  },
  {
   "cell_type": "code",
   "execution_count": null,
   "metadata": {
    "collapsed": false
   },
   "outputs": [],
   "source": [
    "yellow_output = 'test_videos_output/solidYellowLeft.mp4'\n",
    "## To speed up the testing process you may want to try your pipeline on a shorter subclip of the video\n",
    "## To do so add .subclip(start_second,end_second) to the end of the line below\n",
    "## Where start_second and end_second are integer values representing the start and end of the subclip\n",
    "## You may also uncomment the following line for a subclip of the first 5 seconds\n",
    "##clip2 = VideoFileClip('test_videos/solidYellowLeft.mp4').subclip(0,5)\n",
    "clip2 = VideoFileClip('test_videos/solidYellowLeft.mp4')\n",
    "yellow_clip = clip2.fl_image(process_image)\n",
    "%time yellow_clip.write_videofile(yellow_output, audio=False)"
   ]
  },
  {
   "cell_type": "code",
   "execution_count": null,
   "metadata": {
    "collapsed": false
   },
   "outputs": [],
   "source": [
    "HTML(\"\"\"\n",
    "<video width=\"960\" height=\"540\" controls>\n",
    "  <source src=\"{0}\">\n",
    "</video>\n",
    "\"\"\".format(yellow_output))"
   ]
  },
  {
   "cell_type": "markdown",
   "metadata": {},
   "source": [
    "## Writeup and Submission\n",
    "\n",
    "If you're satisfied with your video outputs, it's time to make the report writeup in a pdf or markdown file. Once you have this Ipython notebook ready along with the writeup, it's time to submit for review! Here is a [link](https://github.com/udacity/CarND-LaneLines-P1/blob/master/writeup_template.md) to the writeup template file.\n"
   ]
  },
  {
   "cell_type": "markdown",
   "metadata": {
    "collapsed": true
   },
   "source": [
    "## Optional Challenge\n",
    "\n",
    "Try your lane finding pipeline on the video below.  Does it still work?  Can you figure out a way to make it more robust?  If you're up for the challenge, modify your pipeline so it works with this video and submit it along with the rest of your project!"
   ]
  },
  {
   "cell_type": "code",
   "execution_count": null,
   "metadata": {
    "collapsed": true
   },
   "outputs": [],
   "source": [
    "challenge_output = 'test_videos_output/challenge.mp4'\n",
    "## To speed up the testing process you may want to try your pipeline on a shorter subclip of the video\n",
    "## To do so add .subclip(start_second,end_second) to the end of the line below\n",
    "## Where start_second and end_second are integer values representing the start and end of the subclip\n",
    "## You may also uncomment the following line for a subclip of the first 5 seconds\n",
    "##clip3 = VideoFileClip('test_videos/challenge.mp4').subclip(0,5)\n",
    "clip3 = VideoFileClip('test_videos/challenge.mp4')\n",
    "challenge_clip = clip3.fl_image(process_image)\n",
    "%time challenge_clip.write_videofile(challenge_output, audio=False)"
   ]
  },
  {
   "cell_type": "code",
   "execution_count": null,
   "metadata": {
    "collapsed": true
   },
   "outputs": [],
   "source": [
    "HTML(\"\"\"\n",
    "<video width=\"960\" height=\"540\" controls>\n",
    "  <source src=\"{0}\">\n",
    "</video>\n",
    "\"\"\".format(challenge_output))"
   ]
  }
 ],
 "metadata": {
  "anaconda-cloud": {},
  "kernelspec": {
   "display_name": "Python 3.8.1 64-bit",
   "language": "python",
   "name": "python38164bitd1654fb3afa0486f8c2bc97c3d2edc6c"
  },
  "language_info": {
   "codemirror_mode": {
    "name": "ipython",
    "version": 3
   },
   "file_extension": ".py",
   "mimetype": "text/x-python",
   "name": "python",
   "nbconvert_exporter": "python",
   "pygments_lexer": "ipython3",
   "version": "3.8.1-final"
  }
 },
 "nbformat": 4,
 "nbformat_minor": 0
}